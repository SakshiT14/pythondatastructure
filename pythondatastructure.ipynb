{
  "nbformat": 4,
  "nbformat_minor": 0,
  "metadata": {
    "colab": {
      "provenance": []
    },
    "kernelspec": {
      "name": "python3",
      "display_name": "Python 3"
    },
    "language_info": {
      "name": "python"
    }
  },
  "cells": [
    {
      "cell_type": "markdown",
      "source": [
        "DATA STRUCTURE\n"
      ],
      "metadata": {
        "id": "ZDNHGJdtxdXQ"
      }
    },
    {
      "cell_type": "markdown",
      "source": [
        "1. What are data structures, and why are they important?\n",
        "  - Data structures are specialized ways to organize and store data in a computer so that it can be accessed and modified efficiently.\n",
        "  They are important because of their efficiency, optimization, Scalability, Flexibility.\n",
        "\n",
        "2. Explain the difference between mutable and immutable data types with examples.\n",
        "  - Mutable Data Types\n",
        "   mutable data type allows modification of its state or content after it is created. This means that the object itself can be changed, and the changes will be reflected wherever that object is referenced.\n",
        "  - Immutable Data Types\n",
        "   immutable data type, once created, cannot be changed. Any operation that attempts to modify an immutable object will result in the creation of a new object rather than altering the original one."
      ],
      "metadata": {
        "id": "T6_GP5UkxgPC"
      }
    },
    {
      "cell_type": "code",
      "source": [
        "#example for mutable data type\n",
        "my_list = [1, 2, 3]\n",
        "my_list[0] = 10\n",
        "print(my_list)"
      ],
      "metadata": {
        "colab": {
          "base_uri": "https://localhost:8080/"
        },
        "id": "cRn8CvjAxZxK",
        "outputId": "50219abf-0f03-481c-88d3-460ea50b8ba1"
      },
      "execution_count": null,
      "outputs": [
        {
          "output_type": "stream",
          "name": "stdout",
          "text": [
            "[10, 2, 3]\n"
          ]
        }
      ]
    },
    {
      "cell_type": "code",
      "source": [
        "#example for immutable data type\n",
        "my_tuple = (1, 2, 3)\n",
        "my_tuple[0]=4  #gives error since tuples are immutable"
      ],
      "metadata": {
        "id": "A76ifJLa0FbW"
      },
      "execution_count": null,
      "outputs": []
    },
    {
      "cell_type": "markdown",
      "source": [
        "3. What are the main differences between lists and tuples in Python?\n",
        "\n",
        "  Lists are:\n",
        "   - Mutable (can change after creation)\n",
        "   - Created with []\n",
        "   - Slower due to mutability\n",
        "   - Higher memory usage\n",
        "   \n",
        "  Tuples are:\n",
        "   - Immutable (cannot change after      creation)\n",
        "   - Created with ()\n",
        "   - Faster due to immutability\n",
        "   - Lower memory usage\n",
        "\n",
        "4. Describe how dictionaries store data.\n",
        "   - dictionaries are a type of collection that store data in the form of key-value pairs."
      ],
      "metadata": {
        "id": "8GvE3X5bxS2d"
      }
    },
    {
      "cell_type": "code",
      "execution_count": null,
      "metadata": {
        "id": "TycfqNWVxIlD"
      },
      "outputs": [],
      "source": [
        "#an example to show how the dictionaries stores data\n",
        "my_dict = {\"apple\": 1, \"banana\": 2, \"cherry\": 3}"
      ]
    },
    {
      "cell_type": "markdown",
      "source": [
        "5. Why might you use a set instead of a list in Python?\n",
        "   \n",
        "   - Uniqueness: A set automatically removes duplicate values, ensuring that all elements are unique.  \n",
        "\n",
        "   - Faster membership tests: Checking if an item is present in a set is faster than in a list because sets use a hashing mechanism.\n",
        "\n",
        "   - Mathematical set operations: Sets provide built-in support for operations like union, intersection, and difference, which are common in set theory.\n",
        "\n",
        "6. What is a string in Python, and how is it different from a list?\n",
        "   - A string in Python is a sequence of characters enclosed in quotes (' ', \" \", or ''' '''), representing textual data. Strings are immutable.Strings can only contain characters.\n",
        "   - A list, on the other hand, is an ordered collection of items that can contain elements of different data types. Lists are mutable. Lists can contain elements of any type, including strings, numbers, other lists, etc.\n",
        "\n",
        "7. How do tuples ensure data integrity in Python?\n",
        "   - Tuples ensure data integrity by being immutable. Once a tuple is created, its elements cannot be changed, removed, or added to. This ensures that the data inside the tuple remains constant throughout the program, protecting it from accidental modification.\n",
        "\n",
        "8. What is a hash table, and how does it relate to dictionaries in Python?\n",
        "  - A hash table is a data structure that stores key-value pairs using a hash function to compute an index (or hash) where the data will be stored. Dictionaries in Python are implemented using hash tables. Each key in a dictionary is hashed, and the resulting hash determines the position where the key-value pair is stored, providing efficient lookups, insertions, and deletions.\n",
        "\n",
        "9. Can lists contain different data types in Python?\n",
        "   - Yes, lists in Python can contain elements of different data types. For example, a list can hold integers, strings, other lists, tuples, or even dictionaries. A code example is:\n"
      ],
      "metadata": {
        "id": "I1VsGrOT2UTm"
      }
    },
    {
      "cell_type": "code",
      "source": [
        "my_list = [1, \"hello\", 3.14, [1, 2], {\"key\": \"value\"}]"
      ],
      "metadata": {
        "id": "nVeg-Jod6Lg_"
      },
      "execution_count": null,
      "outputs": []
    },
    {
      "cell_type": "markdown",
      "source": [
        "10. Explain why strings are immutable in Python.\n",
        "  \n",
        "  Strings are immutable in Python to provide several benefits:\n",
        "  - Performance: Immutable objects can be stored more efficiently, and they are easier to optimize, especially in multi-threaded programs.\n",
        "  - Consistency: Immutability ensures that strings cannot be changed accidentally, preventing bugs related to unintentional modification of string values.\n",
        "  - Hashing: Since strings are often used as keys in dictionaries, their immutability ensures that their hash values remain constant.\n",
        "\n",
        "\n",
        "\n",
        "11. What advantages do dictionaries offer over lists for certain tasks?\n",
        "Dictionaries offer advantages over lists when:\n",
        "\n",
        "  - Fast lookups: You can quickly retrieve values based on unique keys, making dictionaries ideal for tasks that involve searching or mapping data.\n",
        "  - Mapping data: Dictionaries store data as key-value pairs, which is useful when you need to associate one piece of data (key) with another (value), such as storing student names and their grades.\n",
        "\n",
        "\n",
        "12. Describe a scenario where using a tuple would be preferable over a list.\n",
        "\n",
        "  - The data should remain constant and not be modified. For example, storing the coordinates of a point in space (x, y, z) where you don't want to accidentally change the values.\n",
        "   Performance: Tuples are generally faster than lists for iteration because of their immutability, so they are useful for constant data that won’t change over time.\n",
        "\n",
        "   13. How do sets handle duplicate values in Python?\n",
        "   - Sets automatically remove duplicates. If you try to add a duplicate value to a set, it will not be added. For example:\n"
      ],
      "metadata": {
        "id": "0h0c-MNy6YCP"
      }
    },
    {
      "cell_type": "code",
      "source": [
        "my_set = {1, 2, 3, 1}\n",
        "print(my_set)\n"
      ],
      "metadata": {
        "colab": {
          "base_uri": "https://localhost:8080/"
        },
        "id": "g93FV5UC7_ne",
        "outputId": "fe51f452-9202-4d26-a8c9-a4a47932b378"
      },
      "execution_count": null,
      "outputs": [
        {
          "output_type": "stream",
          "name": "stdout",
          "text": [
            "{1, 2, 3}\n"
          ]
        }
      ]
    },
    {
      "cell_type": "markdown",
      "source": [
        "14. How does the \"in\" keyword work differently for lists and dictionaries?\n",
        "   - For lists, the \"in\" keyword checks if a value is present in the list.\n",
        "   - For dictionaries, the \"in\" keyword checks if a key is present in the dictionary.\n",
        "\n",
        "15. Can you modify the elements of a tuple? Explain why or why not.\n",
        "  - No, you cannot modify the elements of a tuple because tuples are immutable. This immutability is a fundamental property of tuples that ensures their data remains constant throughout the program.\n",
        "\n",
        "16. What is a nested dictionary, and give an example of its use case?\n",
        "   - A nested dictionary is a dictionary that contains another dictionary as a value. This allows you to store hierarchical or multi-level data.\n",
        "\n",
        "Example:\n"
      ],
      "metadata": {
        "id": "wLjCL1su8Ked"
      }
    },
    {
      "cell_type": "code",
      "source": [
        "students = {\n",
        "    \"John\": {\"age\": 20, \"grade\": \"A\"},\n",
        "    \"Alice\": {\"age\": 22, \"grade\": \"B\"}\n",
        "}\n",
        "print(students[\"John\"][\"age\"])"
      ],
      "metadata": {
        "colab": {
          "base_uri": "https://localhost:8080/"
        },
        "id": "0yl8fY8I8wZg",
        "outputId": "d3db5b22-1f9d-457c-ba43-8d7057dab4d8"
      },
      "execution_count": null,
      "outputs": [
        {
          "output_type": "stream",
          "name": "stdout",
          "text": [
            "20\n"
          ]
        }
      ]
    },
    {
      "cell_type": "markdown",
      "source": [
        "17. Describe the time complexity of accessing elements in a dictionary.\n",
        "   - Accessing elements in a dictionary typically has a time complexity of O(1) (constant time) on average. This is because dictionaries use hash tables, allowing direct access to values via their keys.\n",
        "\n",
        "18. In what situations are lists preferred over dictionaries?\n",
        "   - Lists are preferred over dictionaries when you need an ordered collection of items (since lists maintain order).\n",
        "The data doesn’t require key-value associations.\n",
        "You are performing tasks like sorting, appending, or iterating over sequences of items where indexing by position is more useful.\n",
        "19. Why are dictionaries considered unordered, and how does that affect data retrieval?\n",
        "  - Dictionaries are unordered because, prior to Python 3.7, the order of key-value pairs in a dictionary was not guaranteed. However, starting with Python 3.7, dictionaries maintain insertion order. Even so, since dictionaries are designed for fast lookups by key, the order doesn’t affect how you retrieve data. You access data by its key, not by its position.\n",
        "\n",
        "20. Explain the difference between a list and a dictionary in terms of data retrieval.\n",
        "  - In a list, data is retrieved using an index (e.g., my_list[0]), which corresponds to the position of the item in the sequence.\n",
        "In a dictionary, data is retrieved using a key (e.g., my_dict[\"key\"]), where the key maps to a specific value. This allows for more flexible and direct access to values based on unique identifiers."
      ],
      "metadata": {
        "id": "8vmbmLiW9HMD"
      }
    },
    {
      "cell_type": "markdown",
      "source": [
        "PRACTICAL QUESTIONS\n"
      ],
      "metadata": {
        "id": "D5yxGPOX-DYp"
      }
    },
    {
      "cell_type": "markdown",
      "source": [
        "1. Create a string with your name and print it:"
      ],
      "metadata": {
        "id": "NEVGZn7K-Mkx"
      }
    },
    {
      "cell_type": "code",
      "source": [
        "my_name = \"John\"\n",
        "print(my_name)\n"
      ],
      "metadata": {
        "colab": {
          "base_uri": "https://localhost:8080/"
        },
        "id": "cBwpC-Xp-T48",
        "outputId": "5b339643-53f6-4b07-84ce-f633e096ac46"
      },
      "execution_count": null,
      "outputs": [
        {
          "output_type": "stream",
          "name": "stdout",
          "text": [
            "John\n"
          ]
        }
      ]
    },
    {
      "cell_type": "markdown",
      "source": [
        "2. Find the length of the string \"Hello World\":"
      ],
      "metadata": {
        "id": "qNuMin6C-YK0"
      }
    },
    {
      "cell_type": "code",
      "source": [
        "string = \"Hello World\"\n",
        "length = len(string)\n",
        "print(length)\n"
      ],
      "metadata": {
        "colab": {
          "base_uri": "https://localhost:8080/"
        },
        "id": "dHsz5_Js-qBT",
        "outputId": "f307cfc1-bd66-45cb-a845-a5f34fe1a5f3"
      },
      "execution_count": null,
      "outputs": [
        {
          "output_type": "stream",
          "name": "stdout",
          "text": [
            "11\n"
          ]
        }
      ]
    },
    {
      "cell_type": "markdown",
      "source": [
        "3. Slice the first 3 characters from the string \"Python Programming\":"
      ],
      "metadata": {
        "id": "I4UtaHfx-tHC"
      }
    },
    {
      "cell_type": "code",
      "source": [
        "string = \"Python Programming\"\n",
        "sliced_string = string[:3]\n",
        "print(sliced_string)\n"
      ],
      "metadata": {
        "colab": {
          "base_uri": "https://localhost:8080/"
        },
        "id": "xozUTT35-wjO",
        "outputId": "ab1f976b-6e4b-4666-a813-ce64263d04df"
      },
      "execution_count": null,
      "outputs": [
        {
          "output_type": "stream",
          "name": "stdout",
          "text": [
            "Pyt\n"
          ]
        }
      ]
    },
    {
      "cell_type": "markdown",
      "source": [
        "4. Convert the string \"hello\" to uppercase:"
      ],
      "metadata": {
        "id": "nEFSMJQB-1Ud"
      }
    },
    {
      "cell_type": "code",
      "source": [
        "string = \"hello\"\n",
        "uppercase_string = string.upper()\n",
        "print(uppercase_string)\n"
      ],
      "metadata": {
        "colab": {
          "base_uri": "https://localhost:8080/"
        },
        "id": "DaPFHRtG-2bq",
        "outputId": "4bac6a84-3ce6-480e-9a4b-fbdd05f0078b"
      },
      "execution_count": null,
      "outputs": [
        {
          "output_type": "stream",
          "name": "stdout",
          "text": [
            "HELLO\n"
          ]
        }
      ]
    },
    {
      "cell_type": "markdown",
      "source": [
        "5. Replace the word \"apple\" with \"orange\" in the string \"I like apple\":"
      ],
      "metadata": {
        "id": "C7EaGx8X-7OR"
      }
    },
    {
      "cell_type": "code",
      "source": [
        "string = \"I like apple\"\n",
        "replaced_string = string.replace(\"apple\", \"orange\")\n",
        "print(replaced_string)\n"
      ],
      "metadata": {
        "colab": {
          "base_uri": "https://localhost:8080/"
        },
        "id": "BqTdI1ai-8hv",
        "outputId": "ce1ca16d-bf1d-4b89-a1e3-da5d591dbee5"
      },
      "execution_count": null,
      "outputs": [
        {
          "output_type": "stream",
          "name": "stdout",
          "text": [
            "I like orange\n"
          ]
        }
      ]
    },
    {
      "cell_type": "markdown",
      "source": [
        "6. Create a list with numbers 1 to 5 and print it:"
      ],
      "metadata": {
        "id": "cxWeOj6i_Aqf"
      }
    },
    {
      "cell_type": "code",
      "source": [
        "my_list = [1, 2, 3, 4, 5]\n",
        "print(my_list)\n"
      ],
      "metadata": {
        "colab": {
          "base_uri": "https://localhost:8080/"
        },
        "id": "hFdkFR6p_B2o",
        "outputId": "14eef274-5850-40e9-a3ee-909d8b8d130f"
      },
      "execution_count": null,
      "outputs": [
        {
          "output_type": "stream",
          "name": "stdout",
          "text": [
            "[1, 2, 3, 4, 5]\n"
          ]
        }
      ]
    },
    {
      "cell_type": "markdown",
      "source": [
        "7. Append the number 10 to the list [1, 2, 3, 4]:"
      ],
      "metadata": {
        "id": "eQ4i81LY_F69"
      }
    },
    {
      "cell_type": "code",
      "source": [
        "my_list = [1, 2, 3, 4]\n",
        "my_list.append(10)\n",
        "print(my_list)\n"
      ],
      "metadata": {
        "colab": {
          "base_uri": "https://localhost:8080/"
        },
        "id": "pvW7rf9H_HuG",
        "outputId": "2ccab2b0-949e-41fe-e161-39221a1439ff"
      },
      "execution_count": null,
      "outputs": [
        {
          "output_type": "stream",
          "name": "stdout",
          "text": [
            "[1, 2, 3, 4, 10]\n"
          ]
        }
      ]
    },
    {
      "cell_type": "markdown",
      "source": [
        "8. Remove the number 3 from the list [1, 2, 3, 4, 5]:"
      ],
      "metadata": {
        "id": "_M_hxW1G_LDh"
      }
    },
    {
      "cell_type": "code",
      "source": [
        "my_list = [1, 2, 3, 4, 5]\n",
        "my_list.remove(3)\n",
        "print(my_list)\n"
      ],
      "metadata": {
        "colab": {
          "base_uri": "https://localhost:8080/"
        },
        "id": "VrOufiCk_MIu",
        "outputId": "ce0fe78c-60c4-4055-9c89-60dcb70b097c"
      },
      "execution_count": null,
      "outputs": [
        {
          "output_type": "stream",
          "name": "stdout",
          "text": [
            "[1, 2, 4, 5]\n"
          ]
        }
      ]
    },
    {
      "cell_type": "markdown",
      "source": [
        "9. Access the second element in the list ['a', 'b', 'c', 'd']:"
      ],
      "metadata": {
        "id": "is4jANSl_SxF"
      }
    },
    {
      "cell_type": "code",
      "source": [
        "my_list = ['a', 'b', 'c', 'd']\n",
        "second_element = my_list[1]\n",
        "print(second_element)\n"
      ],
      "metadata": {
        "colab": {
          "base_uri": "https://localhost:8080/"
        },
        "id": "DP0rC9X__Vlk",
        "outputId": "e918f6a1-2ff9-4434-b9f8-f15151f6d25a"
      },
      "execution_count": null,
      "outputs": [
        {
          "output_type": "stream",
          "name": "stdout",
          "text": [
            "b\n"
          ]
        }
      ]
    },
    {
      "cell_type": "markdown",
      "source": [
        "10. Reverse the list [10, 20, 30, 40, 50]:"
      ],
      "metadata": {
        "id": "Czc_rj4I_ZUf"
      }
    },
    {
      "cell_type": "code",
      "source": [
        "my_list = [10, 20, 30, 40, 50]\n",
        "reversed_list = my_list[::-1]\n",
        "print(reversed_list)\n"
      ],
      "metadata": {
        "colab": {
          "base_uri": "https://localhost:8080/"
        },
        "id": "EXSbD-c7_dU7",
        "outputId": "f7290087-c96f-4ae4-c3b1-cdc256fa0df6"
      },
      "execution_count": null,
      "outputs": [
        {
          "output_type": "stream",
          "name": "stdout",
          "text": [
            "[50, 40, 30, 20, 10]\n"
          ]
        }
      ]
    },
    {
      "cell_type": "markdown",
      "source": [
        "11. Create a tuple with the elements 10, 20, 30 and print it:\n"
      ],
      "metadata": {
        "id": "p1UUEYgl_rxh"
      }
    },
    {
      "cell_type": "code",
      "source": [
        "my_tuple = (10, 20, 30)\n",
        "print(my_tuple)\n"
      ],
      "metadata": {
        "colab": {
          "base_uri": "https://localhost:8080/"
        },
        "id": "ZwnE8FHa_sI1",
        "outputId": "1b65533c-e133-4803-9025-e6aa7b0afc12"
      },
      "execution_count": null,
      "outputs": [
        {
          "output_type": "stream",
          "name": "stdout",
          "text": [
            "(10, 20, 30)\n"
          ]
        }
      ]
    },
    {
      "cell_type": "markdown",
      "source": [
        "12. Access the first element of the tuple ('apple', 'banana', 'cherry'):"
      ],
      "metadata": {
        "id": "LuSvoZmY_suK"
      }
    },
    {
      "cell_type": "code",
      "source": [
        "my_tuple = ('apple', 'banana', 'cherry')\n",
        "first_element = my_tuple[0]\n",
        "print(first_element)\n"
      ],
      "metadata": {
        "colab": {
          "base_uri": "https://localhost:8080/"
        },
        "id": "A1kuvBZZ_tJQ",
        "outputId": "ad4b79da-f093-439d-e00c-8b712ee59dd5"
      },
      "execution_count": null,
      "outputs": [
        {
          "output_type": "stream",
          "name": "stdout",
          "text": [
            "apple\n"
          ]
        }
      ]
    },
    {
      "cell_type": "markdown",
      "source": [
        "13. Count how many times the number 2 appears in the tuple (1, 2, 3, 2, 4, 2):"
      ],
      "metadata": {
        "id": "iZOOADIl_tiR"
      }
    },
    {
      "cell_type": "code",
      "source": [
        "my_tuple = (1, 2, 3, 2, 4, 2)\n",
        "count_of_2 = my_tuple.count(2)\n",
        "print(count_of_2)\n"
      ],
      "metadata": {
        "colab": {
          "base_uri": "https://localhost:8080/"
        },
        "id": "uLzxA_fv_uW_",
        "outputId": "afa181cb-5eb5-45ba-b5ef-18a4c725d575"
      },
      "execution_count": null,
      "outputs": [
        {
          "output_type": "stream",
          "name": "stdout",
          "text": [
            "3\n"
          ]
        }
      ]
    },
    {
      "cell_type": "markdown",
      "source": [
        "14. Find the index of the element \"cat\" in the tuple ('dog', 'cat', 'rabbit'):"
      ],
      "metadata": {
        "id": "axSe0nEI_vEi"
      }
    },
    {
      "cell_type": "code",
      "source": [
        "my_tuple = ('dog', 'cat', 'rabbit')\n",
        "index_of_cat = my_tuple.index('cat')\n",
        "print(index_of_cat)\n"
      ],
      "metadata": {
        "colab": {
          "base_uri": "https://localhost:8080/"
        },
        "id": "VVJJhxqg_veW",
        "outputId": "0619e821-e3a1-4870-91ed-a8f4b37ce4ab"
      },
      "execution_count": null,
      "outputs": [
        {
          "output_type": "stream",
          "name": "stdout",
          "text": [
            "1\n"
          ]
        }
      ]
    },
    {
      "cell_type": "markdown",
      "source": [
        "15. Check if the element \"banana\" is in the tuple ('apple', 'orange', 'banana'):"
      ],
      "metadata": {
        "id": "_lKkNUJvAWEC"
      }
    },
    {
      "cell_type": "code",
      "source": [
        "my_tuple = ('apple', 'orange', 'banana')\n",
        "is_banana_in_tuple = 'banana' in my_tuple\n",
        "print(is_banana_in_tuple)\n"
      ],
      "metadata": {
        "colab": {
          "base_uri": "https://localhost:8080/"
        },
        "id": "8dfL5GmLAXor",
        "outputId": "8c20bc6d-133b-431d-fbf3-6a1321ce1492"
      },
      "execution_count": null,
      "outputs": [
        {
          "output_type": "stream",
          "name": "stdout",
          "text": [
            "True\n"
          ]
        }
      ]
    },
    {
      "cell_type": "markdown",
      "source": [
        "16. Create a set with the elements 1, 2, 3, 4, 5 and print it:"
      ],
      "metadata": {
        "id": "8wOgKVhyAbY3"
      }
    },
    {
      "cell_type": "code",
      "source": [
        "my_set = {1, 2, 3, 4, 5}\n",
        "print(my_set)\n"
      ],
      "metadata": {
        "colab": {
          "base_uri": "https://localhost:8080/"
        },
        "id": "NSmUNpVxAcYS",
        "outputId": "315350d5-292d-4d4c-ef8b-1dbee82fa617"
      },
      "execution_count": null,
      "outputs": [
        {
          "output_type": "stream",
          "name": "stdout",
          "text": [
            "{1, 2, 3, 4, 5}\n"
          ]
        }
      ]
    },
    {
      "cell_type": "markdown",
      "source": [
        "17. Add the element 6 to the set {1, 2, 3, 4}:"
      ],
      "metadata": {
        "id": "TZlOJ6_XAf2c"
      }
    },
    {
      "cell_type": "code",
      "source": [
        "my_set = {1, 2, 3, 4}\n",
        "my_set.add(6)\n",
        "print(my_set)\n"
      ],
      "metadata": {
        "colab": {
          "base_uri": "https://localhost:8080/"
        },
        "id": "97KMKGpeAg3O",
        "outputId": "de1d185e-5814-4080-a213-3a28da154424"
      },
      "execution_count": null,
      "outputs": [
        {
          "output_type": "stream",
          "name": "stdout",
          "text": [
            "{1, 2, 3, 4, 6}\n"
          ]
        }
      ]
    },
    {
      "cell_type": "markdown",
      "source": [
        "18. Create a tuple with the elements 10, 20, 30 and print it:"
      ],
      "metadata": {
        "id": "7hyKvm_7AlSy"
      }
    },
    {
      "cell_type": "code",
      "source": [
        "my_tuple = (10, 20, 30)\n",
        "print(my_tuple)\n"
      ],
      "metadata": {
        "colab": {
          "base_uri": "https://localhost:8080/"
        },
        "id": "udceQwoEApX8",
        "outputId": "eab94f16-897b-4dbb-c537-06f2f65d83c4"
      },
      "execution_count": null,
      "outputs": [
        {
          "output_type": "stream",
          "name": "stdout",
          "text": [
            "(10, 20, 30)\n"
          ]
        }
      ]
    },
    {
      "cell_type": "markdown",
      "source": [
        "19. Access the first element of the tuple ('apple', 'banana', 'cherry'):"
      ],
      "metadata": {
        "id": "wT-Ukh0gAt55"
      }
    },
    {
      "cell_type": "code",
      "source": [
        "my_tuple = ('apple', 'banana', 'cherry')\n",
        "first_element = my_tuple[0]\n",
        "print(first_element)\n"
      ],
      "metadata": {
        "colab": {
          "base_uri": "https://localhost:8080/"
        },
        "id": "vSqJfeqZAu-c",
        "outputId": "82766fa6-1a77-4bcf-e5ce-4d58b9a975d0"
      },
      "execution_count": null,
      "outputs": [
        {
          "output_type": "stream",
          "name": "stdout",
          "text": [
            "apple\n"
          ]
        }
      ]
    },
    {
      "cell_type": "markdown",
      "source": [
        "20. Count how many times the number 2 appears in the tuple (1, 2, 3, 2, 4, 2):"
      ],
      "metadata": {
        "id": "j8--W9-YA0gH"
      }
    },
    {
      "cell_type": "code",
      "source": [
        "my_tuple = (1, 2, 3, 2, 4, 2)\n",
        "count_of_2 = my_tuple.count(2)\n",
        "print(count_of_2)\n"
      ],
      "metadata": {
        "colab": {
          "base_uri": "https://localhost:8080/"
        },
        "id": "ADviLTI0A5xZ",
        "outputId": "653569a1-23ef-40cd-c850-bdc2d2c06314"
      },
      "execution_count": null,
      "outputs": [
        {
          "output_type": "stream",
          "name": "stdout",
          "text": [
            "3\n"
          ]
        }
      ]
    },
    {
      "cell_type": "markdown",
      "source": [
        "21. Find the index of the element \"cat\" in the tuple ('dog', 'cat', 'rabbit'):"
      ],
      "metadata": {
        "id": "RJ7rSQrlBA91"
      }
    },
    {
      "cell_type": "code",
      "source": [
        "my_tuple = ('dog', 'cat', 'rabbit')\n",
        "index_of_cat = my_tuple.index('cat')\n",
        "print(index_of_cat)\n"
      ],
      "metadata": {
        "colab": {
          "base_uri": "https://localhost:8080/"
        },
        "id": "-jOQb2_QBCQf",
        "outputId": "6c8c92fd-063f-4e6f-cbed-fd5bc2a50859"
      },
      "execution_count": null,
      "outputs": [
        {
          "output_type": "stream",
          "name": "stdout",
          "text": [
            "1\n"
          ]
        }
      ]
    },
    {
      "cell_type": "markdown",
      "source": [
        "22. Check if the element \"banana\" is in the tuple ('apple', 'orange', 'banana'):"
      ],
      "metadata": {
        "id": "gxJwhXQxBHMw"
      }
    },
    {
      "cell_type": "code",
      "source": [
        "my_tuple = ('apple', 'orange', 'banana')\n",
        "is_banana_in_tuple = 'banana' in my_tuple\n",
        "print(is_banana_in_tuple)\n"
      ],
      "metadata": {
        "colab": {
          "base_uri": "https://localhost:8080/"
        },
        "id": "JR0gvuZuBIts",
        "outputId": "9791d783-4266-4695-be32-453237f68ae4"
      },
      "execution_count": null,
      "outputs": [
        {
          "output_type": "stream",
          "name": "stdout",
          "text": [
            "True\n"
          ]
        }
      ]
    },
    {
      "cell_type": "code",
      "source": [],
      "metadata": {
        "id": "izsbX-6cLPNg"
      },
      "execution_count": null,
      "outputs": []
    },
    {
      "cell_type": "markdown",
      "source": [
        "23. Create a set with the elements 1, 2, 3, 4, 5 and print it:"
      ],
      "metadata": {
        "id": "GmzNf_DoBMh1"
      }
    },
    {
      "cell_type": "code",
      "source": [
        "my_set = {1, 2, 3, 4, 5}\n",
        "print(my_set)\n"
      ],
      "metadata": {
        "colab": {
          "base_uri": "https://localhost:8080/"
        },
        "id": "CY-Y61UHBN9Y",
        "outputId": "edd0c4c1-7ed8-4c77-8174-6f115aa428c5"
      },
      "execution_count": null,
      "outputs": [
        {
          "output_type": "stream",
          "name": "stdout",
          "text": [
            "{1, 2, 3, 4, 5}\n"
          ]
        }
      ]
    },
    {
      "cell_type": "markdown",
      "source": [
        "24. Add the element 6 to the set {1, 2, 3, 4}:"
      ],
      "metadata": {
        "id": "S8lXc9jkBO2N"
      }
    },
    {
      "cell_type": "code",
      "source": [
        "my_set = {1, 2, 3, 4}\n",
        "my_set.add(6)\n",
        "print(my_set)\n"
      ],
      "metadata": {
        "colab": {
          "base_uri": "https://localhost:8080/"
        },
        "id": "HNtAZbXmBSFf",
        "outputId": "c42eec48-8622-466d-ae62-71084331a411"
      },
      "execution_count": null,
      "outputs": [
        {
          "output_type": "stream",
          "name": "stdout",
          "text": [
            "{1, 2, 3, 4, 6}\n"
          ]
        }
      ]
    }
  ]
}